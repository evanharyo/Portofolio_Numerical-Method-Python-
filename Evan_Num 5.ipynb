{
 "cells": [
  {
   "cell_type": "markdown",
   "metadata": {},
   "source": [
    "Evan Haryowidyatna / 2006485011"
   ]
  },
  {
   "cell_type": "markdown",
   "metadata": {},
   "source": [
    "## TUGAS 5 Praktikum MetNum\n",
    "Tugas anda adalah membuat program yang dapat menyelesaikan SPL, dengan input berupa\n",
    "matrix 4 x 5 dengan ketentuan sebagai berikut:\n",
    "- Elemen elemen baris pertama hingga ketiga adalah hasil random, dengan\n",
    "\n",
    "aij ∈ Z, |aij| < 100\n",
    "- Baris terakhir berisi 5 digit terakhir NPM anda"
   ]
  },
  {
   "cell_type": "markdown",
   "metadata": {},
   "source": [
    "### Penjelasan Program\n",
    "Program ini digunakan untuk menyelesaikan spl yang salah satu inputnya merupakan 5 nomor terakhir di npm kita\n",
    "\n",
    "1. Mengimpor modul yang akan digunakan di program\n",
    "2. Membuat matriks di augmatrix sesuai yang diminta di soal yaitu berukuran 4x5 dimana 3 baris pertama random dan baris terakhir inputnya adalah 5 nomor terakhir NPM kita\n",
    "3. Mendefinisikan fungsi Partial untuk melakukan partial pivoting sesuai dengan yang sudah di pelajari\n",
    "4. Mengecek apakah dalam matriks ada yang elemennya 0 jika iya maka SPL tidak memiliki solusi karena ada yang barisnya inputnya 0 dan bila tidak ada 0  maka akan dijalankan dengan cara partial pivoting seperti yang sudah di jelaskan sebelumnya\n",
    "5. Melakukan eliminasi gauss dengan program yang sudah dibuat untuk menemukan hasil SPL nya \n",
    "6.  Mendefinisikan variabel triangular_form yaitu matriks diperbesar yang sudah dieliminasi, maka program akan mencari seluruh solusi dengan BackSubs dan mengeluarkan hasilnya.\n",
    "\n"
   ]
  },
  {
   "cell_type": "code",
   "execution_count": 17,
   "metadata": {},
   "outputs": [
    {
     "name": "stdout",
     "output_type": "stream",
     "text": [
      "masukkan 5 nomor terakhir di npm mu dalam bentuk list contohnya [1,2,3,4]: [8,5,0,1,1]\n",
      "[[    95     25     83     80 -12220]\n",
      " [     0    -47     62    101  -3598]\n",
      " [     0      0    -45    -44   -664]\n",
      " [     0      0      0      2     -3]]\n",
      "\n",
      "[[    95     25     83     80 -12220]\n",
      " [     0    -47     62    101  -3598]\n",
      " [     0      0    -45    -44   -664]\n",
      " [     0      0      0      2     -3]]\n",
      "\n",
      "[[    95     25     83     80 -12220]\n",
      " [     0    -47     62    101  -3598]\n",
      " [     0      0    -45    -44   -664]\n",
      " [     0      0      0      2     -3]]\n",
      "\n",
      "[[    95     25     83     80 -12220]\n",
      " [     0    -47     62    101  -3598]\n",
      " [     0      0    -45    -44   -664]\n",
      " [     0      0      0      2     -3]]\n",
      "\n",
      "Solusi SPL : \n",
      " [-166.45263158   94.70212766   16.22222222   -1.5       ]\n"
     ]
    }
   ],
   "source": [
    "import numpy as np #mengimpor modul agar program bisa dijalankan\n",
    "\n",
    "NPM = eval(input('masukkan 5 nomor terakhir di npm mu dalam bentuk list contohnya [1,2,3,4]: '))\n",
    "\n",
    "augmatrix = [] #membuat matriks\n",
    "for i in range (3): #membuat banyak baris\n",
    "  entry = []\n",
    "  for j in range(5): #membuat banyak kolom\n",
    "    entry.append(np.random.randint(-99,100)) #membuat batas input\n",
    "  augmatrix.append(entry)\n",
    "augmatrix.append(NPM) #memasukkan 5 nomor terakhir di npm\n",
    "augmatrix = np.array(aug_matrix)\n",
    "print(augmatrix) #mengeluarkan matriks\n",
    "print('')\n",
    "\n",
    "def Partial(matrix):\n",
    "    n = np.shape(matrix)[0] #banyak baris/persamaan pada matrix\n",
    "    for i in range(n-1):\n",
    "        below_pivot = abs(matrix[i:,i])  # Mencari lokasi dari kolom yg membuat absolutnya nilai maksimum\n",
    "        \n",
    "        pivot_row = np.argmax(below_pivot)\n",
    "        \n",
    "        if matrix[i,pivot_row+i] == 0:    #jika nilainya = 0, satu kolom bernilai 0\n",
    "            return \"Tidak ada solusi unik\"\n",
    "        else:\n",
    "            matrix[[pivot_row+i,i]]= matrix[[i,pivot_row+i]]\n",
    "            \n",
    "        for j in range(i+1,n):       #melakukan eliminasi gauss\n",
    "            m = matrix[j,i]/matrix[i,i]\n",
    "            matrix[j] = matrix[j]-m*matrix[i]\n",
    "        print(matrix)\n",
    "        print('')\n",
    "    return matrix\n",
    "\n",
    "def BackSubs(matrix):\n",
    "    n = np.shape(matrix)[0]  #menentukan banyak baris pada matrix\n",
    "    sol = np.zeros(n)  #membentuk array [0] sepanjang n, untuk menyimpan solusi\n",
    "    sol[n-1]= matrix[n-1,n]/matrix[n-1,n-1]\n",
    "    for i in range(n-2,-1,-1):\n",
    "        for j in range(i+1,n):\n",
    "            matrix[i,n]-=matrix[i,j]*sol[j]\n",
    "        sol[i] = matrix[i,n]/matrix[i,i]\n",
    "    return sol\n",
    "\n",
    "triangular_form_pp = Partial(aug_matrix)\n",
    "print(\"Solusi SPL : \\n {0}\".format(BackSubs(triangular_form_pp))) #mengeluarkan hasil"
   ]
  },
  {
   "cell_type": "code",
   "execution_count": null,
   "metadata": {},
   "outputs": [],
   "source": []
  }
 ],
 "metadata": {
  "kernelspec": {
   "display_name": "Python 3",
   "language": "python",
   "name": "python3"
  },
  "language_info": {
   "codemirror_mode": {
    "name": "ipython",
    "version": 3
   },
   "file_extension": ".py",
   "mimetype": "text/x-python",
   "name": "python",
   "nbconvert_exporter": "python",
   "pygments_lexer": "ipython3",
   "version": "3.8.3"
  }
 },
 "nbformat": 4,
 "nbformat_minor": 4
}
