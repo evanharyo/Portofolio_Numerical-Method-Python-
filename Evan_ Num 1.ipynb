{
 "cells": [
  {
   "cell_type": "code",
   "execution_count": 3,
   "metadata": {},
   "outputs": [
    {
     "name": "stdout",
     "output_type": "stream",
     "text": [
      "masukkan formula fungsi: (3*(x**2)+3)**(1/4)\n",
      "masukkan titik awal iterasi: 1\n",
      "masukkan batas toleransi aproksimasi: 0.01\n",
      "1.5650845800732873\n",
      "1.79357287863573\n",
      "1.8859437430173158\n",
      "1.9228478439840826\n",
      "1.9375075399574273\n",
      "1.9433169298986768\n",
      "fixed point unik dari g(x) = (3*(x**2)+3)**(1/4) adalah x= 1.9433169\n"
     ]
    }
   ],
   "source": [
    "#5\n",
    "import numpy\n",
    "from numpy import sin, cos, log, exp\n",
    "\n",
    "formula = input('masukkan formula fungsi: ')\n",
    "def g(x):\n",
    "    return eval(formula)\n",
    "\n",
    "def fixedpoint(p0,tolerance):\n",
    "    p = g(p0)\n",
    "    abs_error= abs(p-p0)\n",
    "    p0 = p\n",
    "    print(p)\n",
    "    while abs_error>= tolerance:\n",
    "        p = g(p0)\n",
    "        abs_error = abs(p-p0)\n",
    "        p0=p\n",
    "        print(p)\n",
    "    return p\n",
    "\n",
    "starting_point= eval(input(\"masukkan titik awal iterasi: \")) #p0\n",
    "tolerance= eval(input(\"masukkan batas toleransi aproksimasi: \")) #tolerance\n",
    "fixed_point = fixedpoint(starting_point, tolerance)\n",
    "\n",
    "print('fixed point unik dari g(x) = {0} adalah x= {1:.7f}'. format(formula,fixed_point))"
   ]
  },
  {
   "cell_type": "code",
   "execution_count": 2,
   "metadata": {},
   "outputs": [
    {
     "name": "stdout",
     "output_type": "stream",
     "text": [
      "1.5650845800732873\n",
      "1.79357287863573\n",
      "1.8859437430173158\n",
      "1.9228478439840826\n",
      "1.9375075399574273\n",
      "p=1.9433169298986768after6iterations\n"
     ]
    }
   ],
   "source": [
    "import numpy as np\n",
    "def g(p):\n",
    "    return((3*p**2+3)**(1/4))\n",
    "Tolerance=10**(-2)\n",
    "N0=10\n",
    "p0=1\n",
    "i=1\n",
    "while i<=N0:\n",
    "    p=g(p0)\n",
    "    FP=g(p)\n",
    "    if np.abs(p-p0)<Tolerance:\n",
    "        print(\"p=\"+str(p)+\"after\"+str(i)+\"iterations\")\n",
    "        break\n",
    "    i = i+1\n",
    "    print(p)\n",
    "    p0=p\n",
    "if i>N0:\n",
    "    print(\"method failed after\"+str(NO)+\"iteration\")"
   ]
  },
  {
   "cell_type": "code",
   "execution_count": 4,
   "metadata": {},
   "outputs": [
    {
     "name": "stdout",
     "output_type": "stream",
     "text": [
      "masukkan formula fungsi: (3*(x**2)+3)**(1/4)\n",
      "masukkan titik awal iterasi: 1\n",
      "masukkan batas toleransi aproksimasi: 0.01\n",
      "fixed point unik dari g(x) = (3*(x**2)+3)**(1/4) adalah x= 1.9433169\n"
     ]
    }
   ],
   "source": [
    "import numpy\n",
    "from numpy import sin, cos, log, exp\n",
    "\n",
    "formula = input('masukkan formula fungsi: ')\n",
    "def g(x):\n",
    "    return eval(formula)\n",
    "\n",
    "def fixedpoint(p0,tolerance):\n",
    "    p = g(p0)\n",
    "    abs_error= abs(p-p0)\n",
    "    p0 = p\n",
    "    while abs_error>= tolerance:\n",
    "        p = g(p0)\n",
    "        abs_error = abs(p-p0)\n",
    "        p0=p\n",
    "    return p\n",
    "\n",
    "starting_point= eval(input(\"masukkan titik awal iterasi: \")) #p0\n",
    "tolerance= eval(input(\"masukkan batas toleransi aproksimasi: \")) #tolerance\n",
    "fixed_point = fixedpoint(starting_point, tolerance)\n",
    "\n",
    "print('fixed point unik dari g(x) = {0} adalah x= {1:.7f}'. format(formula,fixed_point))"
   ]
  },
  {
   "cell_type": "code",
   "execution_count": null,
   "metadata": {},
   "outputs": [],
   "source": [
    "#12a\n",
    "\n",
    "from numpy import sin, cos, tan, log, exp\n",
    "formula = input('masukkan formula fungsi: ')\n",
    "\n",
    "def f(x):\n",
    "    return eval(formula)\n",
    "\n",
    "def secant(p0, p1, tolerance):\n",
    "    p = p1 - (f(p1)*(p1-p0))/(f(p1)-f(p0))\n",
    "    abs_error= abs(p-p1)\n",
    "    p0 = p1\n",
    "    p1 = p\n",
    "    while abs_error>=tolerance:\n",
    "        p = p1 - (f(p1)*(p1-p0))/(f(p1)-f(p0))\n",
    "        abs_error=abs(p-p1)\n",
    "        p0 = p1\n",
    "        p1 = p\n",
    "    return p\n",
    "\n",
    "starting_point1 = eval(input(\"masukkan titik awal pertama: \"))\n",
    "starting_point2 = eval(input(\"masukkan titik awal kedua: \"))\n",
    "tolerance = eval(input(\"masukkan tolerance: \"))\n",
    "akar_secant = secant(starting_point1, starting_point2, tolerance)\n",
    "\n",
    "print('akar dari persamaan f(x) = {0} adalah x = {1:.5f}'.format(formula,akar_secant))"
   ]
  },
  {
   "cell_type": "code",
   "execution_count": null,
   "metadata": {},
   "outputs": [],
   "source": []
  }
 ],
 "metadata": {
  "kernelspec": {
   "display_name": "Python 3",
   "language": "python",
   "name": "python3"
  },
  "language_info": {
   "codemirror_mode": {
    "name": "ipython",
    "version": 3
   },
   "file_extension": ".py",
   "mimetype": "text/x-python",
   "name": "python",
   "nbconvert_exporter": "python",
   "pygments_lexer": "ipython3",
   "version": "3.8.8"
  }
 },
 "nbformat": 4,
 "nbformat_minor": 4
}
